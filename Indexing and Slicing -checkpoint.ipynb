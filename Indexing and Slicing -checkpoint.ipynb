{
 "cells": [
  {
   "cell_type": "code",
   "execution_count": 1,
   "metadata": {},
   "outputs": [],
   "source": [
    "import numpy as np"
   ]
  },
  {
   "cell_type": "code",
   "execution_count": 12,
   "metadata": {},
   "outputs": [],
   "source": [
    "l=[1,2,5,6,88,9,87]\n"
   ]
  },
  {
   "cell_type": "code",
   "execution_count": 16,
   "metadata": {},
   "outputs": [],
   "source": [
    "arr=np.array(l)"
   ]
  },
  {
   "cell_type": "code",
   "execution_count": 18,
   "metadata": {},
   "outputs": [
    {
     "data": {
      "text/plain": [
       "array([ 2,  5,  6, 87])"
      ]
     },
     "execution_count": 18,
     "metadata": {},
     "output_type": "execute_result"
    }
   ],
   "source": [
    "arr[[1,2,3,6]]"
   ]
  },
  {
   "cell_type": "code",
   "execution_count": 19,
   "metadata": {},
   "outputs": [],
   "source": [
    "x=np.array([1,2,3,5,8,9])"
   ]
  },
  {
   "cell_type": "code",
   "execution_count": 20,
   "metadata": {},
   "outputs": [
    {
     "data": {
      "text/plain": [
       "9"
      ]
     },
     "execution_count": 20,
     "metadata": {},
     "output_type": "execute_result"
    }
   ],
   "source": [
    "x[5] #indexing and slicing "
   ]
  },
  {
   "cell_type": "code",
   "execution_count": 21,
   "metadata": {},
   "outputs": [
    {
     "data": {
      "text/plain": [
       "array([False, False, False, False,  True,  True])"
      ]
     },
     "execution_count": 21,
     "metadata": {},
     "output_type": "execute_result"
    }
   ],
   "source": [
    "x>5"
   ]
  },
  {
   "cell_type": "code",
   "execution_count": 22,
   "metadata": {},
   "outputs": [
    {
     "data": {
      "text/plain": [
       "array([8, 9])"
      ]
     },
     "execution_count": 22,
     "metadata": {},
     "output_type": "execute_result"
    }
   ],
   "source": [
    "x[x>5]"
   ]
  },
  {
   "cell_type": "code",
   "execution_count": 25,
   "metadata": {},
   "outputs": [
    {
     "data": {
      "text/plain": [
       "array([3, 5])"
      ]
     },
     "execution_count": 25,
     "metadata": {},
     "output_type": "execute_result"
    }
   ],
   "source": [
    "x[[2,3]]"
   ]
  },
  {
   "cell_type": "code",
   "execution_count": 27,
   "metadata": {},
   "outputs": [],
   "source": [
    "r=np.random.randn(10,10)"
   ]
  },
  {
   "cell_type": "code",
   "execution_count": 28,
   "metadata": {},
   "outputs": [
    {
     "data": {
      "text/plain": [
       "array([[ 1.20052814, -0.67424483,  0.35354789,  0.85359676,  1.22389962,\n",
       "         1.38904821,  0.40490895,  0.02251565, -0.09290923, -0.89977402],\n",
       "       [ 1.01658487, -0.61073654,  1.48603436, -1.86192765, -1.25105036,\n",
       "         0.84620204,  0.96964455, -0.5636045 , -0.47421096,  0.43259294],\n",
       "       [-0.84154972,  0.84813093,  0.68343005,  1.47814216, -0.37896084,\n",
       "         1.1136433 , -0.4096623 ,  1.09017189, -0.42060052, -0.01821368],\n",
       "       [ 0.0622376 ,  0.47436906, -1.64734692,  0.41435725, -0.42096214,\n",
       "        -0.87829457, -0.01753147,  0.87461808,  0.90173989, -0.77679499],\n",
       "       [-0.99485198, -0.054488  , -0.1639602 , -0.57029147,  1.6214861 ,\n",
       "         0.47190826,  1.17850317,  0.97709982,  0.48216545,  0.34719337],\n",
       "       [-1.17881236,  0.76293055, -1.62461318,  1.61788047, -0.01252008,\n",
       "         0.83103874, -0.22287508,  0.99986065, -0.62737788,  1.29596314],\n",
       "       [-0.82715279, -0.14730262,  1.99297316, -0.46905539,  0.64129709,\n",
       "        -0.83812737,  1.67108512,  0.876846  , -0.77814735,  0.48452607],\n",
       "       [-1.22895169,  0.41164121, -0.6749066 , -1.21995534, -1.97048978,\n",
       "        -1.66975703, -0.28215528,  0.18766109, -1.91342165, -1.17602115],\n",
       "       [ 0.62570587,  0.75749911, -0.3165488 ,  0.01838371, -1.79512919,\n",
       "        -1.32935569, -0.0454089 ,  0.28930872, -0.30343513,  0.7336969 ],\n",
       "       [-0.44366711,  2.15905226,  0.71227201, -2.53304865, -0.35517499,\n",
       "         0.12158834, -0.70337037,  1.32059823, -0.98693991,  0.56064072]])"
      ]
     },
     "execution_count": 28,
     "metadata": {},
     "output_type": "execute_result"
    }
   ],
   "source": [
    "r"
   ]
  },
  {
   "cell_type": "code",
   "execution_count": 30,
   "metadata": {},
   "outputs": [
    {
     "data": {
      "text/plain": [
       "array([ 1.20052814, -0.67424483,  0.35354789,  0.85359676,  1.22389962,\n",
       "        1.38904821,  0.40490895,  0.02251565, -0.09290923, -0.89977402])"
      ]
     },
     "execution_count": 30,
     "metadata": {},
     "output_type": "execute_result"
    }
   ],
   "source": [
    "r[0]  #now first row occurs here "
   ]
  },
  {
   "cell_type": "code",
   "execution_count": 31,
   "metadata": {},
   "outputs": [
    {
     "data": {
      "text/plain": [
       "-0.6742448271239018"
      ]
     },
     "execution_count": 31,
     "metadata": {},
     "output_type": "execute_result"
    }
   ],
   "source": [
    "r[0][1]"
   ]
  },
  {
   "cell_type": "code",
   "execution_count": 35,
   "metadata": {},
   "outputs": [
    {
     "data": {
      "text/plain": [
       "array([[ 1.01658487, -0.61073654,  1.48603436, -1.86192765, -1.25105036,\n",
       "         0.84620204,  0.96964455, -0.5636045 , -0.47421096,  0.43259294],\n",
       "       [ 0.0622376 ,  0.47436906, -1.64734692,  0.41435725, -0.42096214,\n",
       "        -0.87829457, -0.01753147,  0.87461808,  0.90173989, -0.77679499],\n",
       "       [-1.17881236,  0.76293055, -1.62461318,  1.61788047, -0.01252008,\n",
       "         0.83103874, -0.22287508,  0.99986065, -0.62737788,  1.29596314],\n",
       "       [-1.22895169,  0.41164121, -0.6749066 , -1.21995534, -1.97048978,\n",
       "        -1.66975703, -0.28215528,  0.18766109, -1.91342165, -1.17602115],\n",
       "       [-0.44366711,  2.15905226,  0.71227201, -2.53304865, -0.35517499,\n",
       "         0.12158834, -0.70337037,  1.32059823, -0.98693991,  0.56064072]])"
      ]
     },
     "execution_count": 35,
     "metadata": {},
     "output_type": "execute_result"
    }
   ],
   "source": [
    "#now if i need only the odd rows\n",
    "r[1:10:2,::] # :: no need waise in this case "
   ]
  },
  {
   "cell_type": "code",
   "execution_count": 37,
   "metadata": {},
   "outputs": [
    {
     "data": {
      "text/plain": [
       "array([[ 1.20052814, -0.67424483,  0.35354789,  0.85359676],\n",
       "       [ 1.01658487, -0.61073654,  1.48603436, -1.86192765],\n",
       "       [-0.84154972,  0.84813093,  0.68343005,  1.47814216],\n",
       "       [ 0.0622376 ,  0.47436906, -1.64734692,  0.41435725],\n",
       "       [-0.99485198, -0.054488  , -0.1639602 , -0.57029147],\n",
       "       [-1.17881236,  0.76293055, -1.62461318,  1.61788047],\n",
       "       [-0.82715279, -0.14730262,  1.99297316, -0.46905539],\n",
       "       [-1.22895169,  0.41164121, -0.6749066 , -1.21995534],\n",
       "       [ 0.62570587,  0.75749911, -0.3165488 ,  0.01838371],\n",
       "       [-0.44366711,  2.15905226,  0.71227201, -2.53304865]])"
      ]
     },
     "execution_count": 37,
     "metadata": {},
     "output_type": "execute_result"
    }
   ],
   "source": [
    "r[::,0: 4 ]    # :: means all rows and srart of some columns "
   ]
  },
  {
   "cell_type": "code",
   "execution_count": 38,
   "metadata": {},
   "outputs": [],
   "source": [
    "a=np.ones((5,5))"
   ]
  },
  {
   "cell_type": "code",
   "execution_count": 39,
   "metadata": {},
   "outputs": [],
   "source": [
    "a[1:-1,1:-1]=5"
   ]
  },
  {
   "cell_type": "code",
   "execution_count": 40,
   "metadata": {},
   "outputs": [
    {
     "data": {
      "text/plain": [
       "array([[1., 1., 1., 1., 1.],\n",
       "       [1., 5., 5., 5., 1.],\n",
       "       [1., 5., 5., 5., 1.],\n",
       "       [1., 5., 5., 5., 1.],\n",
       "       [1., 1., 1., 1., 1.]])"
      ]
     },
     "execution_count": 40,
     "metadata": {},
     "output_type": "execute_result"
    }
   ],
   "source": [
    "a"
   ]
  },
  {
   "cell_type": "markdown",
   "metadata": {},
   "source": [
    "# Some more functions on whole arrays "
   ]
  },
  {
   "cell_type": "code",
   "execution_count": 7,
   "metadata": {},
   "outputs": [],
   "source": [
    "x=np.array([1,2,3,4,9,81])"
   ]
  },
  {
   "cell_type": "code",
   "execution_count": 8,
   "metadata": {},
   "outputs": [
    {
     "data": {
      "text/plain": [
       "array([1.        , 1.41421356, 1.73205081, 2.        , 3.        ,\n",
       "       9.        ])"
      ]
     },
     "execution_count": 8,
     "metadata": {},
     "output_type": "execute_result"
    }
   ],
   "source": [
    "np.sqrt(x)"
   ]
  },
  {
   "cell_type": "code",
   "execution_count": 9,
   "metadata": {},
   "outputs": [
    {
     "data": {
      "text/plain": [
       "array([   1,    4,    9,   16,   81, 6561], dtype=int32)"
      ]
     },
     "execution_count": 9,
     "metadata": {},
     "output_type": "execute_result"
    }
   ],
   "source": [
    "np.power(x,2)"
   ]
  },
  {
   "cell_type": "code",
   "execution_count": 13,
   "metadata": {},
   "outputs": [],
   "source": [
    "y=[1,2,3,4,5,6]"
   ]
  },
  {
   "cell_type": "code",
   "execution_count": 14,
   "metadata": {},
   "outputs": [
    {
     "data": {
      "text/plain": [
       "array([ 1,  2,  3,  4,  9, 81])"
      ]
     },
     "execution_count": 14,
     "metadata": {},
     "output_type": "execute_result"
    }
   ],
   "source": [
    "np.maximum(x,y)"
   ]
  },
  {
   "cell_type": "markdown",
   "metadata": {},
   "source": [
    "# np.where "
   ]
  },
  {
   "cell_type": "code",
   "execution_count": 15,
   "metadata": {},
   "outputs": [],
   "source": [
    "# if else wala scane hai but poorre array pe apply hota "
   ]
  },
  {
   "cell_type": "code",
   "execution_count": 16,
   "metadata": {},
   "outputs": [],
   "source": [
    "salary = np.array([0,-1,100000,50000])"
   ]
  },
  {
   "cell_type": "code",
   "execution_count": 17,
   "metadata": {},
   "outputs": [
    {
     "data": {
      "text/plain": [
       "array(['not disclose', 'not disclose', '100000', '50000'], dtype='<U12')"
      ]
     },
     "execution_count": 17,
     "metadata": {},
     "output_type": "execute_result"
    }
   ],
   "source": [
    "np.where(salary<=0,'not disclose',salary )"
   ]
  },
  {
   "cell_type": "code",
   "execution_count": 19,
   "metadata": {},
   "outputs": [
    {
     "data": {
      "text/plain": [
       "array([ 25000,  25000, 100000,  50000])"
      ]
     },
     "execution_count": 19,
     "metadata": {},
     "output_type": "execute_result"
    }
   ],
   "source": [
    "np.where(salary<=0,25000,salary )"
   ]
  },
  {
   "cell_type": "code",
   "execution_count": 20,
   "metadata": {},
   "outputs": [
    {
     "data": {
      "text/plain": [
       "array(['not ok', 'not ok', 'okay ', 'okay '], dtype='<U6')"
      ]
     },
     "execution_count": 20,
     "metadata": {},
     "output_type": "execute_result"
    }
   ],
   "source": [
    "np.where(salary<=0,'not ok','okay ' )"
   ]
  },
  {
   "cell_type": "code",
   "execution_count": null,
   "metadata": {},
   "outputs": [],
   "source": []
  }
 ],
 "metadata": {
  "kernelspec": {
   "display_name": "Python 3",
   "language": "python",
   "name": "python3"
  },
  "language_info": {
   "codemirror_mode": {
    "name": "ipython",
    "version": 3
   },
   "file_extension": ".py",
   "mimetype": "text/x-python",
   "name": "python",
   "nbconvert_exporter": "python",
   "pygments_lexer": "ipython3",
   "version": "3.8.3"
  }
 },
 "nbformat": 4,
 "nbformat_minor": 4
}
